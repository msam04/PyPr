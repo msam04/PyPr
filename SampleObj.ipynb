{
 "cells": [
  {
   "cell_type": "code",
   "execution_count": 4,
   "metadata": {},
   "outputs": [
    {
     "name": "stdout",
     "output_type": "stream",
     "text": [
      "20\n",
      "x-value: 5 y-value: 7\n"
     ]
    }
   ],
   "source": [
    "class Box:\n",
    "    def __init__(self, width, height):\n",
    "        self.width = width\n",
    "        self.height = height\n",
    "    def area(self):\n",
    "        return self.width * self.height\n",
    "    def __init__(self, width, height):\n",
    "        self.width = width\n",
    "        self.height = height\n",
    "        \n",
    "        \n",
    "# Create an instance of Box.\n",
    "x = Box(10, 2)\n",
    "# Print area.\n",
    "print(x.area())\n",
    "\n",
    "class Point:\n",
    "    def __init__(self, x=0, y=0):\n",
    "        self.x = x\n",
    "        self.y = y\n",
    "        \n",
    "    def __str__(self):\n",
    "        return \"x-value: \" + str(self.x) + \" y-value: \" + str(self.y)\n",
    "    \n",
    "    def add(self,other):\n",
    "        self.x = self.x+other.x\n",
    "        self.y = self.y+other.y\n",
    "        return self\n",
    "    \n",
    "p1 = Point(3,4)\n",
    "p2 = Point(2,3)\n",
    "p3 = p1.add(p2)\n",
    "print (p3)"
   ]
  },
  {
   "cell_type": "code",
   "execution_count": null,
   "metadata": {},
   "outputs": [],
   "source": []
  },
  {
   "cell_type": "code",
   "execution_count": null,
   "metadata": {},
   "outputs": [],
   "source": []
  }
 ],
 "metadata": {
  "kernelspec": {
   "display_name": "Python 3",
   "language": "python",
   "name": "python3"
  }
 },
 "nbformat": 4,
 "nbformat_minor": 2
}
